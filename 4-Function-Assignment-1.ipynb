{
 "cells": [
  {
   "cell_type": "code",
   "execution_count": 4,
   "id": "00d007e5",
   "metadata": {},
   "outputs": [
    {
     "name": "stdout",
     "output_type": "stream",
     "text": [
      "Sub-fields in AI are:\n",
      "Machine Learning\n",
      "Neural Networks\n",
      "Vision\n",
      "Robotics\n",
      "Speech Processing\n",
      "Natural Language Processing\n"
     ]
    }
   ],
   "source": [
    "def SubfieldsInAISubfields():\n",
    "    print(\"Sub-fields in AI are:\")\n",
    "    list=[\"Machine Learning\",\"Neural Networks\",\"Vision\",\"Robotics\",\"Speech Processing\",\"Natural Language Processing\"]\n",
    "    for temp in list:\n",
    "        print(temp)\n",
    "SubfieldsInAISubfields()"
   ]
  },
  {
   "cell_type": "code",
   "execution_count": 10,
   "id": "778752af",
   "metadata": {},
   "outputs": [
    {
     "name": "stdout",
     "output_type": "stream",
     "text": [
      "Enter the Numbers:52452\n",
      "52452 Even Number\n"
     ]
    },
    {
     "data": {
      "text/plain": [
       "'Even number'"
      ]
     },
     "execution_count": 10,
     "metadata": {},
     "output_type": "execute_result"
    }
   ],
   "source": [
    "def OddEven():\n",
    "    num=int(input(\"Enter the Numbers:\"))\n",
    "    if(num%2==0):\n",
    "        print(num,\"Even Number\")\n",
    "        message=\"Even number\"\n",
    "    else:\n",
    "        print(num,\"Odd Number\")\n",
    "        message=\"Odd Number\"\n",
    "    return message\n",
    "\n",
    "OddEven()"
   ]
  },
  {
   "cell_type": "code",
   "execution_count": 14,
   "id": "192550eb",
   "metadata": {},
   "outputs": [
    {
     "name": "stdout",
     "output_type": "stream",
     "text": [
      "your Gender:male\n",
      "Your age:20\n"
     ]
    },
    {
     "data": {
      "text/plain": [
       "'NOT ELIGIBLE'"
      ]
     },
     "execution_count": 14,
     "metadata": {},
     "output_type": "execute_result"
    }
   ],
   "source": [
    "def Elegible():\n",
    "    sex=input(\"your Gender:\")\n",
    "    age=int(input(\"Your age:\"))\n",
    "    if (age<25):\n",
    "        message=\"NOT ELIGIBLE\"\n",
    "    return message\n",
    "Elegible()"
   ]
  },
  {
   "cell_type": "code",
   "execution_count": 22,
   "id": "4ea80253",
   "metadata": {},
   "outputs": [
    {
     "name": "stdout",
     "output_type": "stream",
     "text": [
      "subject1:98\n",
      "subject2:87\n",
      "subject3:95\n",
      "subject4:95\n",
      "subject5:93\n",
      "Total: 468\n",
      "Percentage: 9360.0\n"
     ]
    }
   ],
   "source": [
    "def percentage():\n",
    "    sub1=int(input(\"subject1:\"))\n",
    "    sub2=int(input(\"subject2:\"))\n",
    "    sub3=int(input(\"subject3:\"))\n",
    "    sub4=int(input(\"subject4:\"))\n",
    "    sub5=int(input(\"subject5:\"))\n",
    "    Total=sub1+sub2+sub3+sub4+sub5\n",
    "    print(\"Total:\",Total)\n",
    "    Percentage=Total/5*100\n",
    "    print(\"Percentage:\",Percentage)\n",
    "percentage()\n",
    "    "
   ]
  },
  {
   "cell_type": "code",
   "execution_count": 23,
   "id": "443acd9a",
   "metadata": {},
   "outputs": [
    {
     "name": "stdout",
     "output_type": "stream",
     "text": [
      "Height:32\n",
      "Breadth:34\n",
      "Area of Formula: 544.0\n",
      "Height1:2\n",
      "Height2:4\n",
      "Breadth:4\n",
      "Perimeter of Triangle: 10\n"
     ]
    }
   ],
   "source": [
    "def triangle():\n",
    "    height=int(input(\"Height:\"))\n",
    "    breadth=int(input(\"Breadth:\"))\n",
    "    area=(height*breadth)/2\n",
    "    print(\"Area of Formula:\",area)\n",
    "    height1=int(input(\"Height1:\"))\n",
    "    height2=int(input(\"Height2:\"))\n",
    "    breadth=int(input(\"Breadth:\"))\n",
    "    perimeter=height1+height2+breadth\n",
    "    print(\"Perimeter of Triangle:\",perimeter)\n",
    "    \n",
    "triangle() \n",
    "    \n",
    "    "
   ]
  }
 ],
 "metadata": {
  "kernelspec": {
   "display_name": "Python 3 (ipykernel)",
   "language": "python",
   "name": "python3"
  },
  "language_info": {
   "codemirror_mode": {
    "name": "ipython",
    "version": 3
   },
   "file_extension": ".py",
   "mimetype": "text/x-python",
   "name": "python",
   "nbconvert_exporter": "python",
   "pygments_lexer": "ipython3",
   "version": "3.11.5"
  }
 },
 "nbformat": 4,
 "nbformat_minor": 5
}
